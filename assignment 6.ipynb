{
 "cells": [
  {
   "cell_type": "code",
   "execution_count": 2,
   "id": "30ece14f-ff06-4774-95ce-91c79a6e515a",
   "metadata": {
    "tags": []
   },
   "outputs": [
    {
     "name": "stdout",
     "output_type": "stream",
     "text": [
      "['False', 'None', 'True', 'and', 'as', 'assert', 'async', 'await', 'break', 'class', 'continue', 'def', 'del', 'elif', 'else', 'except', 'finally', 'for', 'from', 'global', 'if', 'import', 'in', 'is', 'lambda', 'nonlocal', 'not', 'or', 'pass', 'raise', 'return', 'try', 'while', 'with', 'yield']\n"
     ]
    }
   ],
   "source": [
    "#1 What are keywords in python? Using the keyword library, print all the python keywords.\n",
    "\"\"\"\n",
    "keywords are the reserved words in python which cannot be used ordinary identifiers ,\n",
    "it is used to define a syntex and structure a program\n",
    "\"\"\"\n",
    "import keyword\n",
    "print(keyword.kwlist)"
   ]
  },
  {
   "cell_type": "code",
   "execution_count": null,
   "id": "0f9567c5-cbc5-4175-bd29-731fcebbcb42",
   "metadata": {},
   "outputs": [],
   "source": [
    "#2 What are the rules to create variables in python?\n",
    "\"\"\"\n",
    "A variable name cannot start with a digit or special charator. \n",
    "A variable name can only contain alpha-numeric characters and underscores ( a-z, A-Z , 0-9 , and _ ) \n",
    "Variable names are case-sensitive (age, Age and AGE are three different variables)\n",
    "There is no limit on the length of the variable name.\n",
    "\"\"\""
   ]
  },
  {
   "cell_type": "code",
   "execution_count": null,
   "id": "f4a7adac-9ee8-4055-9b1f-19fa48d930b1",
   "metadata": {},
   "outputs": [],
   "source": [
    "#3 What are the standards and conventions followed for the nomenclature of variables inpython to improve code readability and maintainability?\n",
    "\"\"\"\n",
    "Instance variable names should follow the lowercase convention. \n",
    "Have the underscore as a separator while naming a multi-word instance variable.\n",
    "Begin a non-public instance variable name with a single underscore. \n",
    "Use two consecutive underscores at the beginning of an instance variable\n",
    "\"\"\""
   ]
  },
  {
   "cell_type": "code",
   "execution_count": null,
   "id": "1aa55225-1b85-41bc-a773-6b3fb4f12626",
   "metadata": {},
   "outputs": [],
   "source": [
    "#4 What will happen if a keyword is used as a variable name?\n",
    "\"\"\"\n",
    "Error will occur\n",
    "compiler will get confused whether it is a variable or keyword\n",
    "\"\"\"\n"
   ]
  },
  {
   "cell_type": "code",
   "execution_count": null,
   "id": "bff06a35-a260-4f43-8c9a-e3fe38e2b053",
   "metadata": {},
   "outputs": [],
   "source": [
    "#5 For what purpose def keyword is used?\n",
    "\"\"\"\n",
    "def keyword is used to define a function \n",
    "\"\"\""
   ]
  },
  {
   "cell_type": "code",
   "execution_count": null,
   "id": "ec4d955c-ecad-4abb-8ab3-2687c3e8a323",
   "metadata": {},
   "outputs": [],
   "source": [
    "#6 What is the operation of this special character ‘\\’?\n",
    "\"\"\"\n",
    "'\\' is used for Pathname directory separator\n",
    "\"\"\""
   ]
  },
  {
   "cell_type": "code",
   "execution_count": null,
   "id": "2956c4bf-0b6e-4d31-b3f4-e49f44ebe839",
   "metadata": {},
   "outputs": [],
   "source": [
    "#7 Q.7. Give an example of the following conditions:\n",
    "#(i) Homogeneous list\n",
    "#(ii) Heterogeneous set\n",
    "#(iii) Homogeneous tuple\n",
    "\"\"\"\n",
    "Homogeneous means that it only contains a single type of data. \n",
    "example=['alice','tom','jerry','hendry']\n",
    "\n",
    "A heterogeneous structure on the other hand, \n",
    "involves different file types being concatenated in the list. \n",
    "example=['alice,'tom',1,2,3,3.45,5.67]\n",
    " \n",
    "A Homogeneous tuple=('alice','tom','jerry','hendry')\n",
    "\n",
    "\"\"\"\n",
    "\n"
   ]
  },
  {
   "cell_type": "code",
   "execution_count": null,
   "id": "da47ff37-ed40-4467-acc6-a4a5fab7c1b7",
   "metadata": {},
   "outputs": [],
   "source": [
    "#8 Explain the mutable and immutable data types with proper explanation & examples.\n",
    "\"\"\"\n",
    "Mutable objects in Python are those that can be changed after they are created, \n",
    "like lists or dictionaries. \n",
    "Immutable objects, on the other hand,\n",
    "cannot be changed after they are created, such as strings, integers, or tuples.\n",
    "\n",
    "\"\"\""
   ]
  },
  {
   "cell_type": "code",
   "execution_count": null,
   "id": "77aa4971-064b-4928-9d97-03ebe82ce8b1",
   "metadata": {},
   "outputs": [],
   "source": [
    "#9 Write a code to create the given structure using only for loop.\n",
    "\n",
    "for i in range(6):\n",
    "    for j in range(i+1):\n",
    "        print(\"*\",end=' ')\n",
    "    print()\n"
   ]
  },
  {
   "cell_type": "code",
   "execution_count": null,
   "id": "fb960057-50f3-40e6-89ef-263982c3a3db",
   "metadata": {},
   "outputs": [],
   "source": []
  }
 ],
 "metadata": {
  "kernelspec": {
   "display_name": "Python 3 (ipykernel)",
   "language": "python",
   "name": "python3"
  },
  "language_info": {
   "codemirror_mode": {
    "name": "ipython",
    "version": 3
   },
   "file_extension": ".py",
   "mimetype": "text/x-python",
   "name": "python",
   "nbconvert_exporter": "python",
   "pygments_lexer": "ipython3",
   "version": "3.11.5"
  }
 },
 "nbformat": 4,
 "nbformat_minor": 5
}
